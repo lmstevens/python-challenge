{
 "cells": [
  {
   "cell_type": "code",
   "execution_count": 1,
   "metadata": {},
   "outputs": [],
   "source": [
    "import csv\n",
    "import os"
   ]
  },
  {
   "cell_type": "code",
<<<<<<< HEAD
   "execution_count": 10,
=======
   "execution_count": 78,
>>>>>>> 9c60f84d2d4bbd0ed4ec7c9419fca008cf349b45
   "metadata": {},
   "outputs": [
    {
     "name": "stdout",
     "output_type": "stream",
     "text": [
      "{'Khan': 2218231, 'Correy': 704200, 'Li': 492940, \"O'Tooley\": 105630}\n",
<<<<<<< HEAD
      "{'Khan': [63.0, 3521001], 'Correy': [20.0, 3521001], 'Li': [14.0, 3521001], \"O'Tooley\": [3.0, 3521001]}\n",
=======
      "{'Khan': 63.0, 'Correy': 20.0, 'Li': 14.0, \"O'Tooley\": 3.0}\n",
>>>>>>> 9c60f84d2d4bbd0ed4ec7c9419fca008cf349b45
      "-------------------------\n",
      "Election Results\n",
      "-------------------------\n",
      "Total Votes: 3521001\n",
      "-------------------------\n",
      "\n",
<<<<<<< HEAD
      "Khan: 63.0% (3521001)\n",
      "Correy: 20.0% (3521001)\n",
      "Li: 14.0% (3521001)\n",
      "O'Tooley: 3.0% (3521001)\n",
=======
      "Khan: 63.0%\n",
      "Correy: 20.0%\n",
      "Li: 14.0%\n",
      "O'Tooley: 3.0%\n",
>>>>>>> 9c60f84d2d4bbd0ed4ec7c9419fca008cf349b45
      "-------------------------\n",
      "Winner: Khan\n",
      "-------------------------\n"
     ]
    }
   ],
   "source": [
    "csv_path = os.path.join('election_data.csv')\n",
    "\n",
    "with open(csv_path,'r') as csvfile:\n",
    "    csvreader = csv.reader(csvfile, delimiter=\",\")\n",
    "    header = next(csvreader)\n",
    "    \n",
    "    candidate_votes = {}\n",
    "    total_votes= 0\n",
    "    candidate_list=[]\n",
    "\n",
    "    for row in csvreader:\n",
    "        candidate_name = row[2]\n",
    "        if candidate_name not in candidate_list:\n",
    "            candidate_list.append(candidate_name)\n",
    "            candidate_votes[candidate_name]=1\n",
    "         \n",
    "            total_votes= total_votes +1\n",
    "           \n",
    "        else: \n",
    "            candidate_votes[candidate_name]=candidate_votes.get(candidate_name,0)+1\n",
    "            total_votes = total_votes +1\n",
    "\n",
    "    \n",
    "    #print(total_votes)\n",
    "    winner = max(candidate_votes, key=candidate_votes.get)\n",
    "    #print(winner)\n",
    "    print(candidate_votes)\n",
    "    \n",
    "  \n",
    "    for candidate_name in candidate_votes:\n",
<<<<<<< HEAD
    "        candidate_votes[candidate_name]=[round(float(candidate_votes[candidate_name]/total_votes*100),2),total_votes]\n",
=======
    "        candidate_votes[candidate_name]=round(float(candidate_votes[candidate_name]/total_votes*100),2)\n",
>>>>>>> 9c60f84d2d4bbd0ed4ec7c9419fca008cf349b45
    "    print(candidate_votes)\n",
    "    #sum(candidate_votes.values())\n",
    "    \n",
    "output = (\n",
    "     \"-------------------------\\n\"\n",
    "    \"Election Results\\n\"\n",
    "     \"-------------------------\\n\"\n",
    "     f\"Total Votes: {str(total_votes)}\\n\"\n",
    "     \"-------------------------\\n\")\n",
    "print(output)\n",
<<<<<<< HEAD
    "for key, value in candidate_votes.items():\n",
    "    print(key+\":\", str(value[0])+\"% \"+ \"(\"+str(value[1])+\")\")\n",
=======
    "for x, y in candidate_votes.items():\n",
    "    print(x+\":\", str(y)+\"%\")\n",
>>>>>>> 9c60f84d2d4bbd0ed4ec7c9419fca008cf349b45
    "\n",
    "print(\"-------------------------\")\n",
    "print(f\"Winner: {winner}\")\n",
    "print(\"-------------------------\")"
   ]
  },
  {
   "cell_type": "code",
   "execution_count": 3,
   "metadata": {},
   "outputs": [],
   "source": [
    "#Create a list that counts VoterID column\n",
    "#Create a dictionary of Candidates and and then find count of candidates\n",
    "\n",
    "#Candidates = {Candidate: row[2], Total_Votes: total_votes}\n",
    "\n",
    "#print(total_votes)\n",
    "    "
   ]
  },
  {
   "cell_type": "code",
   "execution_count": null,
   "metadata": {},
   "outputs": [],
   "source": []
  }
 ],
 "metadata": {
  "kernelspec": {
   "display_name": "Python 3",
   "language": "python",
   "name": "python3"
  },
  "language_info": {
   "codemirror_mode": {
    "name": "ipython",
    "version": 3
   },
   "file_extension": ".py",
   "mimetype": "text/x-python",
   "name": "python",
   "nbconvert_exporter": "python",
   "pygments_lexer": "ipython3",
   "version": "3.7.6"
  }
 },
 "nbformat": 4,
 "nbformat_minor": 4
}
