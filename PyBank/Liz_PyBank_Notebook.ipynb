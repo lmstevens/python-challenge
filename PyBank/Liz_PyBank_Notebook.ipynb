{
 "cells": [
  {
   "cell_type": "code",
   "execution_count": 1,
   "metadata": {},
   "outputs": [],
   "source": [
    "import csv\n",
    "import os"
   ]
  },
  {
   "cell_type": "code",
   "execution_count": 2,
   "metadata": {},
   "outputs": [],
   "source": [
    "total_months = 0\n",
    "net_total = 0\n",
    "average_change = 0\n",
    "net_change=[]\n",
    "# have a greatest and least variable\n",
    "greatest_increase = ['', -999999999999]\n",
    "greatest_decrease = ['', 99999999999]\n",
    "\n",
    "next_row = []"
   ]
  },
  {
   "cell_type": "code",
   "execution_count": 3,
   "metadata": {},
   "outputs": [],
   "source": [
    "budget_data = os.path.join('budget_data.csv')"
   ]
  },
  {
   "cell_type": "code",
   "execution_count": 4,
   "metadata": {},
   "outputs": [],
   "source": [
    "#define variables above the with open,otherwise all logic will be within the with open()\n",
    "#row equals next as csvreader"
   ]
  },
  {
   "cell_type": "code",
   "execution_count": 5,
   "metadata": {},
   "outputs": [],
   "source": [
    "with open(budget_data,'r') as csvfile:\n",
    "    csvreader = csv.reader(csvfile, delimiter=\",\")\n",
    "    header = next(csvreader)\n",
    "    \n",
    "    # Take the first DATA row and pre-populate some pieces\n",
    "    next_row = next(csvreader) \n",
    "    total_months = total_months + 1\n",
    "    net_total = net_total + int(next_row[1])\n",
    "    prev_row = next_row\n",
    "    \n",
    "    for row in csvreader:\n",
    "        total_months = total_months +1 \n",
    "        net_total = net_total + int(row[1])\n",
    "        #Find the delta between the current row and the previous row\n",
    "        change = int(row[1]) - int(prev_row[1])\n",
    "        #Add change to net_change[]\n",
    "        net_change.append(change)\n",
    "        \n",
    "        #Iterate through data and compare change from current row to change from previous row\n",
    "        if change > int(greatest_increase[1]):\n",
    "            greatest_increase = [row[0], change]\n",
    "        if change < int(greatest_decrease[1]):\n",
    "            greatest_decrease = [row[0], change]\n",
    "        #reset previous row to the current row so you can go through loop again    \n",
    "        prev_row = row\n",
    "        \n",
    "    next_row = row\n",
    "#create output my adding values together (must all be strings or use f-string)\n",
    "output =(\n",
    "    \"Financial Analysis\\n\"\n",
    "    \"--------------------------\\n\"\n",
    "    \"Total Months: \" + str(total_months) + \"\\n\"\n",
    "    \"Total: $\" + str(net_total) + \"\\n\"\n",
    "    \"Average Change: $\" +str(round((sum(net_change) / len(net_change)),2)) + \"\\n\"\n",
    "    f\"Greatest Increase in Profits {greatest_increase[0]} (${greatest_increase[1]})\\n\"\n",
    "    f\"Greatest Decrease in Profits {greatest_decrease[0]} (${greatest_decrease[1]})\\n\")\n",
    "    "
   ]
  },
  {
   "cell_type": "code",
   "execution_count": 6,
   "metadata": {},
   "outputs": [
    {
     "name": "stdout",
     "output_type": "stream",
     "text": [
      "Financial Analysis\n",
      "--------------------------\n",
      "Total Months: 86\n",
      "Total: $38382578\n",
      "Average Change: $-2315.12\n",
      "Greatest Increase in Profits Feb-2012 ($1926159)\n",
      "Greatest Decrease in Profits Sep-2013 ($-2196167)\n",
      "\n"
     ]
    }
   ],
   "source": [
    "#print output to reflect final solutions using \\n to create new rows\n",
    "print(output)"
   ]
  },
  {
   "cell_type": "code",
   "execution_count": null,
   "metadata": {},
   "outputs": [],
   "source": []
  },
  {
   "cell_type": "code",
   "execution_count": null,
   "metadata": {},
   "outputs": [],
   "source": []
  },
  {
   "cell_type": "code",
   "execution_count": null,
   "metadata": {},
   "outputs": [],
   "source": []
  }
 ],
 "metadata": {
  "kernelspec": {
   "display_name": "Python 3",
   "language": "python",
   "name": "python3"
  },
  "language_info": {
   "codemirror_mode": {
    "name": "ipython",
    "version": 3
   },
   "file_extension": ".py",
   "mimetype": "text/x-python",
   "name": "python",
   "nbconvert_exporter": "python",
   "pygments_lexer": "ipython3",
   "version": "3.7.6"
  }
 },
 "nbformat": 4,
 "nbformat_minor": 4
}
